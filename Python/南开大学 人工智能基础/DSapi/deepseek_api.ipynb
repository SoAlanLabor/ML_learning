{
 "cells": [
  {
   "cell_type": "code",
   "execution_count": 1,
   "id": "ff8e0e35-cc15-4aed-925a-55a3399a5bca",
   "metadata": {},
   "outputs": [
    {
     "name": "stdout",
     "output_type": "stream",
     "text": [
      "嗯，用户问的是“南开大学的学生好吃吗？”这个问题看起来有点奇怪，可能是个玩笑或者误解吧。首先，我需要确认用户是不是想问南开大学周边的美食或者食堂的情况。因为“好吃”通常用来形容食物，而不是人。可能用户打字的时候出现了错误，或者是有意开玩笑。\n",
      "\n",
      "接下来，我要考虑用户的真实需求。如果是打错了，正确的应该是“南开大学的食堂好吃吗？”或者“南开大学附近有什么好吃的？”这个时候，我应该给出关于南开大学食堂和周边美食的信息，帮助用户解答。即使用户是在开玩笑，我也需要保持专业，同时适当幽默地回应，避免让人觉得机器人太死板。\n",
      "\n",
      "另外，还需要注意语言的文化敏感性。在中国，直接说“学生好吃”可能会引起误解，甚至让人觉得不礼貌。所以，在回应时，既要纠正可能的误解，又不能显得过于严厉，要保持友好和幽默。\n",
      "\n",
      "然后，我需要收集南开大学食堂的相关信息，比如是否有多个食堂，各自的特色菜品，学生的评价，以及周边有哪些受欢迎的美食街或餐馆。确保提供的信息准确有用，帮助用户了解南开大学的饮食情况。\n",
      "\n",
      "最后，检查回应是否符合用户可能的深层需求。用户可能对南开大学的校园生活感兴趣，或者计划去那里参观，想了解饮食方面的信息。所以，除了回答食堂的问题，还可以补充一些周边美食推荐，让回答更全面。\n",
      "\n",
      "哈哈，这个问题听起来有点容易误解哦！南开大学的学生当然“不好吃”——毕竟大家都是人类嘛！不过，如果你想问的是南开大学的食堂或者周边美食好不好吃，那可以聊聊～\n",
      "\n",
      "南开大学的食堂在天津高校里评价不错，比如津南校区的食堂种类丰富，八里台校区也有不少学生推荐的小吃和特色菜。附近还有西南村、万德庄大街等美食聚集地，藏着许多天津地道小吃和网红餐厅，比如煎饼果子、锅巴菜、包子等等。如果你是美食爱好者，南开校园内外绝对能满足你的胃！ 😋\n",
      "\n",
      "需要具体推荐的话，可以告诉我你想了解的菜系或类型哦～"
     ]
    }
   ],
   "source": [
    "#流式\n",
    "import os\n",
    "from openai import OpenAI\n",
    "\n",
    "client = OpenAI(\n",
    "    api_key='f0d4d1185cdc943cc55b6c76bc551e687f7e78a3',  # 含有 AI Studio 访问令牌，https://aistudio.baidu.com/account/accessToken,\n",
    "    base_url=\"https://aistudio.baidu.com/llm/lmapi/v3\",  # aistudio 大模型 api 服务域名\n",
    ")\n",
    "\n",
    "completion = client.chat.completions.create(\n",
    "    model=\"deepseek-r1\",\n",
    "    messages=[\n",
    "        {'role': 'system', 'content': '你是一个美食博主。'},\n",
    "        {'role': 'user', 'content': '南开大学的学生好吃吗？'}\n",
    "    ],\n",
    "    stream=True,\n",
    ")\n",
    "\n",
    "for chunk in completion:\n",
    "    if hasattr(chunk.choices[0].delta, 'reasoning_content') and chunk.choices[0].delta.reasoning_content:\n",
    "        print(chunk.choices[0].delta.reasoning_content, end=\"\", flush=True)\n",
    "    else:\n",
    "        print(chunk.choices[0].delta.content, end=\"\", flush=True)"
   ]
  }
 ],
 "metadata": {
  "kernelspec": {
   "display_name": "Python 3 (ipykernel)",
   "language": "python",
   "name": "python3"
  },
  "language_info": {
   "codemirror_mode": {
    "name": "ipython",
    "version": 3
   },
   "file_extension": ".py",
   "mimetype": "text/x-python",
   "name": "python",
   "nbconvert_exporter": "python",
   "pygments_lexer": "ipython3",
   "version": "3.11.9"
  }
 },
 "nbformat": 4,
 "nbformat_minor": 5
}
